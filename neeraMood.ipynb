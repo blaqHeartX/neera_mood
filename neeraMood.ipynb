{
 "cells": [
  {
   "cell_type": "code",
   "execution_count": 10,
   "source": [
    "import cv2\r\n",
    "from ipywidgets import widgets"
   ],
   "outputs": [],
   "metadata": {}
  },
  {
   "cell_type": "code",
   "execution_count": 11,
   "source": [
    "!jupyter serverextension enable voila --sys-prefix"
   ],
   "outputs": [
    {
     "output_type": "stream",
     "name": "stderr",
     "text": [
      "Enabling: voila\n",
      "- Writing config: E:\\_ProgramFIles\\anaconda3\\envs\\tensorflow\\etc\\jupyter\n",
      "    - Validating...\n",
      "      voila 0.2.15 ok\n"
     ]
    }
   ],
   "metadata": {}
  },
  {
   "cell_type": "code",
   "execution_count": 14,
   "source": [
    "def clickClassify(change):\r\n",
    "    cap = cv2.VideoCapture(0)\r\n",
    "    while True:\r\n",
    "        ret, frame = cap.read()  # read frame/image one by one   \r\n",
    "\r\n",
    "        \r\n",
    "        title = \"NEERAMOOD: eliteNeurons\"\r\n",
    "        font = cv2.FONT_HERSHEY_SIMPLEX  #font to apply on text\r\n",
    "\r\n",
    "        prediction = 'The Happy/Sad/Angry'\r\n",
    "\r\n",
    "        cv2.putText(frame, prediction, (20, 20), font, 1, (255, 255, 255), 2) # add text on frame\r\n",
    "        cv2.imshow(title, frame)   # display frame/image\r\n",
    "        \r\n",
    "        key = cv2.waitKey(1)  # wait till key press \r\n",
    "        \r\n",
    "        if key == ord(\"q\"):  # exit loop on 'q' key press\r\n",
    "            break\r\n",
    "        \r\n",
    "    cap.release() # release video capture object\r\n",
    "    cv2.destroyAllWindows()  # destroy all frame windows"
   ],
   "outputs": [],
   "metadata": {}
  },
  {
   "cell_type": "code",
   "execution_count": 15,
   "source": [
    "run_btn = widgets.Button(description = \"RUN neeRaMood\")\r\n",
    "\r\n",
    "run_btn.style.button_color = 'pink'\r\n",
    "\r\n",
    "run_btn.on_click(clickClassify)\r\n",
    "\r\n",
    "run_btn"
   ],
   "outputs": [
    {
     "output_type": "display_data",
     "data": {
      "application/vnd.jupyter.widget-view+json": {
       "version_major": 2,
       "version_minor": 0,
       "model_id": "cacf298ed4cb4f21a46d9067bb0fc1a4"
      },
      "text/plain": [
       "Button(description='RUN neeRaMood', style=ButtonStyle(button_color='pink'))"
      ]
     },
     "metadata": {}
    }
   ],
   "metadata": {}
  },
  {
   "cell_type": "code",
   "execution_count": null,
   "source": [],
   "outputs": [],
   "metadata": {}
  }
 ],
 "metadata": {
  "orig_nbformat": 4,
  "language_info": {
   "name": "python",
   "version": "3.8.5",
   "mimetype": "text/x-python",
   "codemirror_mode": {
    "name": "ipython",
    "version": 3
   },
   "pygments_lexer": "ipython3",
   "nbconvert_exporter": "python",
   "file_extension": ".py"
  },
  "kernelspec": {
   "name": "python3",
   "display_name": "Python 3.8.5 64-bit ('tensorflow': conda)"
  },
  "interpreter": {
   "hash": "517533dea76fa73438035e503c3b3960e0729553bc95d06a18296c6f6643ad7c"
  }
 },
 "nbformat": 4,
 "nbformat_minor": 2
}