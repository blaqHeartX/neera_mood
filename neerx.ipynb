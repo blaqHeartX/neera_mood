{
 "cells": [
  {
   "cell_type": "code",
   "execution_count": 1,
   "metadata": {},
   "outputs": [],
   "source": [
    "import cv2\n",
    "from ipywidgets import widgets"
   ]
  },
  {
   "cell_type": "code",
   "execution_count": 4,
   "metadata": {},
   "outputs": [
    {
     "name": "stderr",
     "output_type": "stream",
     "text": [
      "Enabling: voila\n",
      "- Writing config: E:\\_ProgramFIles\\anaconda3\\envs\\tensorflow\\etc\\jupyter\n",
      "    - Validating...\n",
      "      voila 0.2.15 ok\n",
      "Enabling notebook extension jupyter-js-widgets/extension...\n",
      "      - Validating: ok\n"
     ]
    }
   ],
   "source": [
    "# !jupyter serverextension enable voila --sys-prefix\n",
    "# !jupyter nbextension enable --py widgetsnbextension --sys-prefix"
   ]
  },
  {
   "cell_type": "code",
   "execution_count": 5,
   "metadata": {},
   "outputs": [],
   "source": [
    "def clickClassify(change):\n",
    "    cap = cv2.VideoCapture(0)\n",
    "    while True:\n",
    "        ret, frame = cap.read()  # read frame/image one by one   \n",
    "\n",
    "        \n",
    "        title = \"NEERAMOOD: eliteNeurons\"\n",
    "        font = cv2.FONT_HERSHEY_SIMPLEX  #font to apply on text\n",
    "\n",
    "        prediction = 'The Happy/Sad/Angry'\n",
    "\n",
    "        cv2.putText(frame, prediction, (20, 20), font, 1, (255, 255, 255), 2) # add text on frame\n",
    "        cv2.imshow(title, frame)   # display frame/image\n",
    "        \n",
    "        key = cv2.waitKey(1)  # wait till key press \n",
    "        \n",
    "        if key == ord(\"q\"):  # exit loop on 'q' key press\n",
    "            break\n",
    "        \n",
    "    cap.release() # release video capture object\n",
    "    cv2.destroyAllWindows()  # destroy all frame windows"
   ]
  },
  {
   "cell_type": "code",
   "execution_count": 6,
   "metadata": {},
   "outputs": [
    {
     "data": {
      "application/vnd.jupyter.widget-view+json": {
       "model_id": "9c364dc882bc40b394594c0612f368ae",
       "version_major": 2,
       "version_minor": 0
      },
      "text/plain": [
       "Button(description='RUN neeRaMood', style=ButtonStyle(button_color='pink'))"
      ]
     },
     "metadata": {},
     "output_type": "display_data"
    }
   ],
   "source": [
    "run_btn = widgets.Button(description = \"RUN neeRaMood\")\n",
    "\n",
    "run_btn.style.button_color = 'pink'\n",
    "\n",
    "run_btn.on_click(clickClassify)\n",
    "\n",
    "run_btn"
   ]
  },
  {
   "cell_type": "code",
   "execution_count": null,
   "metadata": {},
   "outputs": [],
   "source": []
  }
 ],
 "metadata": {
  "interpreter": {
   "hash": "517533dea76fa73438035e503c3b3960e0729553bc95d06a18296c6f6643ad7c"
  },
  "kernelspec": {
   "display_name": "Python 3.8.5 64-bit ('tensorflow': conda)",
   "name": "python3"
  },
  "language_info": {
   "codemirror_mode": {
    "name": "ipython",
    "version": 3
   },
   "file_extension": ".py",
   "mimetype": "text/x-python",
   "name": "python",
   "nbconvert_exporter": "python",
   "pygments_lexer": "ipython3",
   "version": "3.8.5"
  },
  "orig_nbformat": 4
 },
 "nbformat": 4,
 "nbformat_minor": 2
}
